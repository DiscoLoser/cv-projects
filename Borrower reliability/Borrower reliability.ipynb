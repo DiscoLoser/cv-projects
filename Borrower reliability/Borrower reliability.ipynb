{
 "cells": [
  {
   "cell_type": "markdown",
   "metadata": {},
   "source": [
    "## Исследование надёжности заёмщиков\n",
    "\n",
    "Заказчик — кредитный отдел банка. Нужно разобраться, влияет ли семейное положение и количество детей клиента на факт погашения кредита в срок. Входные данные от банка — статистика о платёжеспособности клиентов.\n",
    "\n",
    "Результаты исследования будут учтены при построении модели **кредитного скоринга** — специальной системы, которая оценивает способность потенциального заёмщика вернуть кредит банку.\n",
    "\n",
    "\n",
    "\n",
    "Коллеги, предоставившие данные по исследованиям, описали для нас каждый вид переменной из таблицы. \n",
    "\n",
    "- children — количество детей в семье \n",
    "- days_employed — общий трудовой стаж в днях\n",
    "- dob_years — возраст клиента в годах\n",
    "- education — уровень образования клиента\n",
    "- education_id — идентификатор уровня образования\n",
    "- family_status — семейное положение\n",
    "- family_status_id — идентификатор семейного положения\n",
    "- gender — пол клиента\n",
    "- income_type — тип занятости\n",
    "- debt — имел ли задолженность по возврату кредитов\n",
    "- total_income — ежемесячный доход\n",
    "- purpose — цель получения кредита\n",
    "\n",
    "\n",
    "## План работы \n",
    "\n",
    "Для себя я разметил следующий план работы над данным проектом:\n",
    "\n",
    "    1) Необходимо ознакомиться поближе с данными: просмотреть, есть ли пропуски в столбцах, предположить, почему они появились. Обязательно проверить на соответствие типов данных: возможно, мы будем работать с типом datetime, который будет представлен типом str. \n",
    "    2) После ознаекомления с таблицей необходимо внести изменения: убрать пропуски, привести к корректным типам данных, а также просмотреть на наличие дубликатов. \n",
    "    3) Когда таблица будет готова для дальнейшей работы, необходимо будет посмотреть на поставленные мне вопросы - из них мне станет понятно, какие возможные виды категоризации можно будет применить. Необходимо не забыть про лемматизацию, так как у нас есть такой вид переменной, как purpose.\n",
    "    4) Когда у меня будут категории вместе с завершенной лемматизацией, будет необходимо совершить проверку выдвинутых заказчиками гипотез.\n",
    "    5) После окончания работы необходимо будет сделать сооответствующие выводы по проекту."
   ]
  },
  {
   "cell_type": "markdown",
   "metadata": {},
   "source": [
    "### Шаг 1. Откройте файл с данными и изучите общую информацию. "
   ]
  },
  {
   "cell_type": "code",
   "execution_count": 1,
   "metadata": {},
   "outputs": [
    {
     "name": "stdout",
     "output_type": "stream",
     "text": [
      "<class 'pandas.core.frame.DataFrame'>\n",
      "RangeIndex: 21525 entries, 0 to 21524\n",
      "Data columns (total 12 columns):\n",
      "children            21525 non-null int64\n",
      "days_employed       19351 non-null float64\n",
      "dob_years           21525 non-null int64\n",
      "education           21525 non-null object\n",
      "education_id        21525 non-null int64\n",
      "family_status       21525 non-null object\n",
      "family_status_id    21525 non-null int64\n",
      "gender              21525 non-null object\n",
      "income_type         21525 non-null object\n",
      "debt                21525 non-null int64\n",
      "total_income        19351 non-null float64\n",
      "purpose             21525 non-null object\n",
      "dtypes: float64(2), int64(5), object(5)\n",
      "memory usage: 2.0+ MB\n"
     ]
    },
    {
     "data": {
      "text/html": [
       "<div>\n",
       "<style scoped>\n",
       "    .dataframe tbody tr th:only-of-type {\n",
       "        vertical-align: middle;\n",
       "    }\n",
       "\n",
       "    .dataframe tbody tr th {\n",
       "        vertical-align: top;\n",
       "    }\n",
       "\n",
       "    .dataframe thead th {\n",
       "        text-align: right;\n",
       "    }\n",
       "</style>\n",
       "<table border=\"1\" class=\"dataframe\">\n",
       "  <thead>\n",
       "    <tr style=\"text-align: right;\">\n",
       "      <th></th>\n",
       "      <th>children</th>\n",
       "      <th>days_employed</th>\n",
       "      <th>dob_years</th>\n",
       "      <th>education</th>\n",
       "      <th>education_id</th>\n",
       "      <th>family_status</th>\n",
       "      <th>family_status_id</th>\n",
       "      <th>gender</th>\n",
       "      <th>income_type</th>\n",
       "      <th>debt</th>\n",
       "      <th>total_income</th>\n",
       "      <th>purpose</th>\n",
       "    </tr>\n",
       "  </thead>\n",
       "  <tbody>\n",
       "    <tr>\n",
       "      <td>0</td>\n",
       "      <td>1</td>\n",
       "      <td>-8437.673028</td>\n",
       "      <td>42</td>\n",
       "      <td>высшее</td>\n",
       "      <td>0</td>\n",
       "      <td>женат / замужем</td>\n",
       "      <td>0</td>\n",
       "      <td>F</td>\n",
       "      <td>сотрудник</td>\n",
       "      <td>0</td>\n",
       "      <td>253875.639453</td>\n",
       "      <td>покупка жилья</td>\n",
       "    </tr>\n",
       "    <tr>\n",
       "      <td>1</td>\n",
       "      <td>1</td>\n",
       "      <td>-4024.803754</td>\n",
       "      <td>36</td>\n",
       "      <td>среднее</td>\n",
       "      <td>1</td>\n",
       "      <td>женат / замужем</td>\n",
       "      <td>0</td>\n",
       "      <td>F</td>\n",
       "      <td>сотрудник</td>\n",
       "      <td>0</td>\n",
       "      <td>112080.014102</td>\n",
       "      <td>приобретение автомобиля</td>\n",
       "    </tr>\n",
       "    <tr>\n",
       "      <td>2</td>\n",
       "      <td>0</td>\n",
       "      <td>-5623.422610</td>\n",
       "      <td>33</td>\n",
       "      <td>Среднее</td>\n",
       "      <td>1</td>\n",
       "      <td>женат / замужем</td>\n",
       "      <td>0</td>\n",
       "      <td>M</td>\n",
       "      <td>сотрудник</td>\n",
       "      <td>0</td>\n",
       "      <td>145885.952297</td>\n",
       "      <td>покупка жилья</td>\n",
       "    </tr>\n",
       "    <tr>\n",
       "      <td>3</td>\n",
       "      <td>3</td>\n",
       "      <td>-4124.747207</td>\n",
       "      <td>32</td>\n",
       "      <td>среднее</td>\n",
       "      <td>1</td>\n",
       "      <td>женат / замужем</td>\n",
       "      <td>0</td>\n",
       "      <td>M</td>\n",
       "      <td>сотрудник</td>\n",
       "      <td>0</td>\n",
       "      <td>267628.550329</td>\n",
       "      <td>дополнительное образование</td>\n",
       "    </tr>\n",
       "    <tr>\n",
       "      <td>4</td>\n",
       "      <td>0</td>\n",
       "      <td>340266.072047</td>\n",
       "      <td>53</td>\n",
       "      <td>среднее</td>\n",
       "      <td>1</td>\n",
       "      <td>гражданский брак</td>\n",
       "      <td>1</td>\n",
       "      <td>F</td>\n",
       "      <td>пенсионер</td>\n",
       "      <td>0</td>\n",
       "      <td>158616.077870</td>\n",
       "      <td>сыграть свадьбу</td>\n",
       "    </tr>\n",
       "    <tr>\n",
       "      <td>5</td>\n",
       "      <td>0</td>\n",
       "      <td>-926.185831</td>\n",
       "      <td>27</td>\n",
       "      <td>высшее</td>\n",
       "      <td>0</td>\n",
       "      <td>гражданский брак</td>\n",
       "      <td>1</td>\n",
       "      <td>M</td>\n",
       "      <td>компаньон</td>\n",
       "      <td>0</td>\n",
       "      <td>255763.565419</td>\n",
       "      <td>покупка жилья</td>\n",
       "    </tr>\n",
       "    <tr>\n",
       "      <td>6</td>\n",
       "      <td>0</td>\n",
       "      <td>-2879.202052</td>\n",
       "      <td>43</td>\n",
       "      <td>высшее</td>\n",
       "      <td>0</td>\n",
       "      <td>женат / замужем</td>\n",
       "      <td>0</td>\n",
       "      <td>F</td>\n",
       "      <td>компаньон</td>\n",
       "      <td>0</td>\n",
       "      <td>240525.971920</td>\n",
       "      <td>операции с жильем</td>\n",
       "    </tr>\n",
       "    <tr>\n",
       "      <td>7</td>\n",
       "      <td>0</td>\n",
       "      <td>-152.779569</td>\n",
       "      <td>50</td>\n",
       "      <td>СРЕДНЕЕ</td>\n",
       "      <td>1</td>\n",
       "      <td>женат / замужем</td>\n",
       "      <td>0</td>\n",
       "      <td>M</td>\n",
       "      <td>сотрудник</td>\n",
       "      <td>0</td>\n",
       "      <td>135823.934197</td>\n",
       "      <td>образование</td>\n",
       "    </tr>\n",
       "    <tr>\n",
       "      <td>8</td>\n",
       "      <td>2</td>\n",
       "      <td>-6929.865299</td>\n",
       "      <td>35</td>\n",
       "      <td>ВЫСШЕЕ</td>\n",
       "      <td>0</td>\n",
       "      <td>гражданский брак</td>\n",
       "      <td>1</td>\n",
       "      <td>F</td>\n",
       "      <td>сотрудник</td>\n",
       "      <td>0</td>\n",
       "      <td>95856.832424</td>\n",
       "      <td>на проведение свадьбы</td>\n",
       "    </tr>\n",
       "    <tr>\n",
       "      <td>9</td>\n",
       "      <td>0</td>\n",
       "      <td>-2188.756445</td>\n",
       "      <td>41</td>\n",
       "      <td>среднее</td>\n",
       "      <td>1</td>\n",
       "      <td>женат / замужем</td>\n",
       "      <td>0</td>\n",
       "      <td>M</td>\n",
       "      <td>сотрудник</td>\n",
       "      <td>0</td>\n",
       "      <td>144425.938277</td>\n",
       "      <td>покупка жилья для семьи</td>\n",
       "    </tr>\n",
       "  </tbody>\n",
       "</table>\n",
       "</div>"
      ],
      "text/plain": [
       "   children  days_employed  dob_years education  education_id  \\\n",
       "0         1   -8437.673028         42    высшее             0   \n",
       "1         1   -4024.803754         36   среднее             1   \n",
       "2         0   -5623.422610         33   Среднее             1   \n",
       "3         3   -4124.747207         32   среднее             1   \n",
       "4         0  340266.072047         53   среднее             1   \n",
       "5         0    -926.185831         27    высшее             0   \n",
       "6         0   -2879.202052         43    высшее             0   \n",
       "7         0    -152.779569         50   СРЕДНЕЕ             1   \n",
       "8         2   -6929.865299         35    ВЫСШЕЕ             0   \n",
       "9         0   -2188.756445         41   среднее             1   \n",
       "\n",
       "      family_status  family_status_id gender income_type  debt   total_income  \\\n",
       "0   женат / замужем                 0      F   сотрудник     0  253875.639453   \n",
       "1   женат / замужем                 0      F   сотрудник     0  112080.014102   \n",
       "2   женат / замужем                 0      M   сотрудник     0  145885.952297   \n",
       "3   женат / замужем                 0      M   сотрудник     0  267628.550329   \n",
       "4  гражданский брак                 1      F   пенсионер     0  158616.077870   \n",
       "5  гражданский брак                 1      M   компаньон     0  255763.565419   \n",
       "6   женат / замужем                 0      F   компаньон     0  240525.971920   \n",
       "7   женат / замужем                 0      M   сотрудник     0  135823.934197   \n",
       "8  гражданский брак                 1      F   сотрудник     0   95856.832424   \n",
       "9   женат / замужем                 0      M   сотрудник     0  144425.938277   \n",
       "\n",
       "                      purpose  \n",
       "0               покупка жилья  \n",
       "1     приобретение автомобиля  \n",
       "2               покупка жилья  \n",
       "3  дополнительное образование  \n",
       "4             сыграть свадьбу  \n",
       "5               покупка жилья  \n",
       "6           операции с жильем  \n",
       "7                 образование  \n",
       "8       на проведение свадьбы  \n",
       "9     покупка жилья для семьи  "
      ]
     },
     "metadata": {},
     "output_type": "display_data"
    }
   ],
   "source": [
    "import pandas as pd\n",
    "from IPython.display import display\n",
    "df = pd.read_csv('/datasets/data.csv') \n",
    "\n",
    "df.info()\n",
    "\n",
    "display(df.head(10))"
   ]
  },
  {
   "cell_type": "markdown",
   "metadata": {},
   "source": [
    "### Вывод"
   ]
  },
  {
   "cell_type": "markdown",
   "metadata": {},
   "source": [
    "1) Таблица явно перегружена: слишком много столбцов, читать сложно. Необходимо сократить её до более-менее читабельного вида. К примеру, избавиться от столбцов, описывающих семейное положение (словесно), а также образование. Для данных столбцов предусмотрели id. \n",
    "\n",
    "\n",
    "2) В таблице присутствуют пропуски значений. Необходимо определиться, что мы с ними будем делать. \n",
    "\n"
   ]
  },
  {
   "cell_type": "markdown",
   "metadata": {},
   "source": [
    "### Шаг 2. Предобработка данных"
   ]
  },
  {
   "cell_type": "markdown",
   "metadata": {},
   "source": [
    "### Обработка пропусков"
   ]
  },
  {
   "cell_type": "code",
   "execution_count": 2,
   "metadata": {},
   "outputs": [
    {
     "name": "stdout",
     "output_type": "stream",
     "text": [
      "<class 'pandas.core.frame.DataFrame'>\n",
      "RangeIndex: 21525 entries, 0 to 21524\n",
      "Data columns (total 12 columns):\n",
      "children            21525 non-null int64\n",
      "days_employed       21525 non-null float64\n",
      "dob_years           21525 non-null int64\n",
      "education           21525 non-null object\n",
      "education_id        21525 non-null int64\n",
      "family_status       21525 non-null object\n",
      "family_status_id    21525 non-null int64\n",
      "gender              21525 non-null object\n",
      "income_type         21525 non-null object\n",
      "debt                21525 non-null int64\n",
      "total_income        21525 non-null float64\n",
      "purpose             21525 non-null object\n",
      "dtypes: float64(2), int64(5), object(5)\n",
      "memory usage: 2.0+ MB\n"
     ]
    }
   ],
   "source": [
    "# посмотрел в канале slack'a более элегантный способ создать словарь медиан от нашего преподователя\n",
    "total_income_dict = df.groupby('income_type')['total_income'].median().to_dict() \n",
    "\n",
    "def fillna_days(row):\n",
    "    if pd.isna(row['days_employed']):\n",
    "        return df['days_employed'].median()\n",
    "    return row['days_employed']\n",
    "\n",
    "def fillna_income_type(row):\n",
    "    if pd.isna(row['total_income']):\n",
    "        return total_income_dict[row['income_type']]\n",
    "    return row['total_income']\n",
    "           \n",
    "           \n",
    "df['days_employed'] = df.apply(fillna_days, axis=1)\n",
    "df['total_income'] = df.apply(fillna_income_type, axis=1)\n",
    "\n",
    "\n",
    "df.info()\n"
   ]
  },
  {
   "cell_type": "markdown",
   "metadata": {},
   "source": [
    "### Вывод"
   ]
  },
  {
   "cell_type": "markdown",
   "metadata": {},
   "source": [
    "При помощи метода DataFrame.info() обнаружили пропуски в количественных переменных: days_employed и total_income. \n",
    "\n",
    "Общее количество пропусков - 21 525-19 351=2 174, что составляет 10% от общего числа значений. Это много. \n",
    "\n",
    "Столбец days_employed дальше нигде не используется, заполним её с помощью простой функции среднего арифметического .mean().\n",
    "Столбец total_income может исказить нам результат, дальше она будет использована. Поэтому был создан словарь с медианными значениями дохода за месяц (при помощи методов median() и to_dict()), при помощи него и были заполнены пропуски.\n",
    "\n"
   ]
  },
  {
   "cell_type": "markdown",
   "metadata": {},
   "source": [
    "### Замена типа данных"
   ]
  },
  {
   "cell_type": "code",
   "execution_count": 3,
   "metadata": {},
   "outputs": [
    {
     "name": "stdout",
     "output_type": "stream",
     "text": [
      "<class 'pandas.core.frame.DataFrame'>\n",
      "RangeIndex: 21525 entries, 0 to 21524\n",
      "Data columns (total 12 columns):\n",
      "children            21525 non-null int64\n",
      "days_employed       21525 non-null int64\n",
      "dob_years           21525 non-null int64\n",
      "education           21525 non-null object\n",
      "education_id        21525 non-null int64\n",
      "family_status       21525 non-null object\n",
      "family_status_id    21525 non-null int64\n",
      "gender              21525 non-null object\n",
      "income_type         21525 non-null object\n",
      "debt                21525 non-null int64\n",
      "total_income        21525 non-null float64\n",
      "purpose             21525 non-null object\n",
      "dtypes: float64(1), int64(6), object(5)\n",
      "memory usage: 2.0+ MB\n"
     ]
    }
   ],
   "source": [
    "\n",
    "#Преобразуем столбец значений float в столбец значений int\n",
    "#берём метод astype(), так как метод to_numeric() предназначен для переведения из типа str в тип float\n",
    "df['days_employed'] = df['days_employed'].astype('int')\n",
    "\n",
    "df.info() # смотрим на изменения"
   ]
  },
  {
   "cell_type": "markdown",
   "metadata": {},
   "source": [
    "### Вывод"
   ]
  },
  {
   "cell_type": "markdown",
   "metadata": {},
   "source": [
    "Столбец days_employed указывает на дни, которые должны измеряться в целых числах (integer). При этом все значения указаны в параметре float. Исправим этот казус при помощи метода astype()."
   ]
  },
  {
   "cell_type": "markdown",
   "metadata": {},
   "source": [
    "<div class=\"alert alert-success\">\n",
    "<h2> Комментарий от ревьюера</h2>\n",
    "\n",
    "Хорошо. Так же можно округлить до целого доход клиентов.\n",
    "\n",
    "</div>\n"
   ]
  },
  {
   "cell_type": "markdown",
   "metadata": {},
   "source": [
    "### Обработка дубликатов"
   ]
  },
  {
   "cell_type": "code",
   "execution_count": 4,
   "metadata": {},
   "outputs": [
    {
     "name": "stdout",
     "output_type": "stream",
     "text": [
      "Количество дублирующихся строк после всех преобразований: 71\n"
     ]
    },
    {
     "data": {
      "text/html": [
       "<div>\n",
       "<style scoped>\n",
       "    .dataframe tbody tr th:only-of-type {\n",
       "        vertical-align: middle;\n",
       "    }\n",
       "\n",
       "    .dataframe tbody tr th {\n",
       "        vertical-align: top;\n",
       "    }\n",
       "\n",
       "    .dataframe thead th {\n",
       "        text-align: right;\n",
       "    }\n",
       "</style>\n",
       "<table border=\"1\" class=\"dataframe\">\n",
       "  <thead>\n",
       "    <tr style=\"text-align: right;\">\n",
       "      <th></th>\n",
       "      <th>children</th>\n",
       "      <th>days_employed</th>\n",
       "      <th>dob_years</th>\n",
       "      <th>education_id</th>\n",
       "      <th>family_status_id</th>\n",
       "      <th>gender</th>\n",
       "      <th>income_type</th>\n",
       "      <th>debt</th>\n",
       "      <th>total_income</th>\n",
       "      <th>purpose</th>\n",
       "    </tr>\n",
       "  </thead>\n",
       "  <tbody>\n",
       "    <tr>\n",
       "      <td>0</td>\n",
       "      <td>1</td>\n",
       "      <td>-8437</td>\n",
       "      <td>42</td>\n",
       "      <td>0</td>\n",
       "      <td>0</td>\n",
       "      <td>F</td>\n",
       "      <td>сотрудник</td>\n",
       "      <td>0</td>\n",
       "      <td>253875.639453</td>\n",
       "      <td>покупка жилья</td>\n",
       "    </tr>\n",
       "    <tr>\n",
       "      <td>1</td>\n",
       "      <td>1</td>\n",
       "      <td>-4024</td>\n",
       "      <td>36</td>\n",
       "      <td>1</td>\n",
       "      <td>0</td>\n",
       "      <td>F</td>\n",
       "      <td>сотрудник</td>\n",
       "      <td>0</td>\n",
       "      <td>112080.014102</td>\n",
       "      <td>приобретение автомобиля</td>\n",
       "    </tr>\n",
       "    <tr>\n",
       "      <td>2</td>\n",
       "      <td>0</td>\n",
       "      <td>-5623</td>\n",
       "      <td>33</td>\n",
       "      <td>1</td>\n",
       "      <td>0</td>\n",
       "      <td>M</td>\n",
       "      <td>сотрудник</td>\n",
       "      <td>0</td>\n",
       "      <td>145885.952297</td>\n",
       "      <td>покупка жилья</td>\n",
       "    </tr>\n",
       "    <tr>\n",
       "      <td>3</td>\n",
       "      <td>3</td>\n",
       "      <td>-4124</td>\n",
       "      <td>32</td>\n",
       "      <td>1</td>\n",
       "      <td>0</td>\n",
       "      <td>M</td>\n",
       "      <td>сотрудник</td>\n",
       "      <td>0</td>\n",
       "      <td>267628.550329</td>\n",
       "      <td>дополнительное образование</td>\n",
       "    </tr>\n",
       "    <tr>\n",
       "      <td>4</td>\n",
       "      <td>0</td>\n",
       "      <td>340266</td>\n",
       "      <td>53</td>\n",
       "      <td>1</td>\n",
       "      <td>1</td>\n",
       "      <td>F</td>\n",
       "      <td>пенсионер</td>\n",
       "      <td>0</td>\n",
       "      <td>158616.077870</td>\n",
       "      <td>сыграть свадьбу</td>\n",
       "    </tr>\n",
       "  </tbody>\n",
       "</table>\n",
       "</div>"
      ],
      "text/plain": [
       "   children  days_employed  dob_years  education_id  family_status_id gender  \\\n",
       "0         1          -8437         42             0                 0      F   \n",
       "1         1          -4024         36             1                 0      F   \n",
       "2         0          -5623         33             1                 0      M   \n",
       "3         3          -4124         32             1                 0      M   \n",
       "4         0         340266         53             1                 1      F   \n",
       "\n",
       "  income_type  debt   total_income                     purpose  \n",
       "0   сотрудник     0  253875.639453               покупка жилья  \n",
       "1   сотрудник     0  112080.014102     приобретение автомобиля  \n",
       "2   сотрудник     0  145885.952297               покупка жилья  \n",
       "3   сотрудник     0  267628.550329  дополнительное образование  \n",
       "4   пенсионер     0  158616.077870             сыграть свадьбу  "
      ]
     },
     "metadata": {},
     "output_type": "display_data"
    }
   ],
   "source": [
    "def dict_create(data, selected_column):\n",
    "    dictionary = data\n",
    "    dictionary[selected_column] = data[selected_column].str.lower()\n",
    "    dictionary = dictionary.drop_duplicates().reset_index(drop=True)\n",
    "    return dictionary\n",
    "\n",
    "\n",
    "# создаем словарь семейных статусов\n",
    "family_dict = dict_create(df.loc[:, ('family_status', 'family_status_id')], 'family_status')\n",
    "                        \n",
    "# создаем словарь по образованию\n",
    "education_dict = dict_create(df.loc[: ,('education', 'education_id')], 'education')\n",
    "\n",
    "# создаем компактный DataFrame\n",
    "compact_df = df.loc[:, ('children','days_employed', 'dob_years', 'education_id', 'family_status_id', 'gender', \n",
    "               'income_type', 'debt', 'total_income', 'purpose')]\n",
    "\n",
    "print('Количество дублирующихся строк после всех преобразований: {}'.format(compact_df.duplicated().sum()))\n",
    "\n",
    "# избавляемся от дубликатов с переписыванием индексов\n",
    "compact_df = compact_df.drop_duplicates().reset_index(drop=True)\n",
    "\n",
    "# выведем таблицу, чтобы посмотреть на неё (она выглядит прекрасно!)\n",
    "display(compact_df.head(5))\n",
    "\n"
   ]
  },
  {
   "cell_type": "markdown",
   "metadata": {},
   "source": [
    "### Вывод"
   ]
  },
  {
   "cell_type": "markdown",
   "metadata": {},
   "source": [
    "Проверка на полное совпадение строк дала 54 дубликата. Избавимся от них при помощи метода drop_duplicate(), а также reset_index(). Дубликаты могли возникнуть из-за технических сбоев в выгрузке.\n",
    "\n",
    "\n",
    "Теперь необходимо посмотреть, что у нас со столбцами.\n",
    "У нас есть множество дублирующихся значений в следующих столбцах: family_status, education, income_type.\n",
    "\n",
    "Как итог работы были созданы соответствующие словари. Из датафрейма убрали family_status, education, а также преобразовали income_type для простоты работы с таблицей."
   ]
  },
  {
   "cell_type": "markdown",
   "metadata": {},
   "source": [
    "### Лемматизация"
   ]
  },
  {
   "cell_type": "code",
   "execution_count": 5,
   "metadata": {},
   "outputs": [
    {
     "name": "stdout",
     "output_type": "stream",
     "text": [
      "Counter({' ': 33570, '\\n': 21454, 'недвижимость': 6351, 'покупка': 5897, 'жилье': 4460, 'автомобиль': 4306, 'образование': 4013, 'с': 2918, 'операция': 2604, 'свадьба': 2324, 'свой': 2230, 'на': 2222, 'строительство': 1878, 'высокий': 1374, 'получение': 1314, 'коммерческий': 1311, 'для': 1289, 'жилой': 1230, 'сделка': 941, 'дополнительный': 906, 'заниматься': 904, 'проведение': 768, 'сыграть': 765, 'сдача': 651, 'семья': 638, 'собственный': 635, 'со': 627, 'ремонт': 607, 'подержанный': 486, 'подержать': 478, 'приобретение': 461, 'профильный': 436})\n"
     ]
    }
   ],
   "source": [
    "from pymystem3 import Mystem # импортируем из библиотеки pymystem3 класс Mystem\n",
    "from collections import Counter # импортируем из модуля контейнер Counter\n",
    "\n",
    "m = Mystem() # создаем переменную типа Mystem\n",
    "\n",
    "# создаем столбец списков лемматизированных слов и заполняем его на основе лемматизации столбца 'purpose'\n",
    "compact_df['purpose_lemmatized'] = compact_df['purpose'].apply(m.lemmatize) \n",
    "\n",
    "#собирает все лемматезированные элементы в одну строку и считаем все совпадения Counter'ом\n",
    "print(Counter(compact_df['purpose_lemmatized'].sum())) "
   ]
  },
  {
   "cell_type": "markdown",
   "metadata": {},
   "source": [
    "### Вывод"
   ]
  },
  {
   "cell_type": "markdown",
   "metadata": {},
   "source": [
    "Лемматизация показала, что основными категориями, по которым берут кредиты, являются покупка недвижимости/жилья/строительству, покупка автомобиля, кредит с целью получения образования, а также кредит на свадьбу."
   ]
  },
  {
   "cell_type": "markdown",
   "metadata": {},
   "source": [
    "### Категоризация данных"
   ]
  },
  {
   "cell_type": "code",
   "execution_count": 11,
   "metadata": {},
   "outputs": [
    {
     "name": "stdout",
     "output_type": "stream",
     "text": [
      "count    2.145400e+04\n",
      "mean     1.653201e+05\n",
      "std      9.818730e+04\n",
      "min      2.066726e+04\n",
      "10%      7.872156e+04\n",
      "50%      1.425944e+05\n",
      "90%      2.698257e+05\n",
      "max      2.265604e+06\n",
      "Name: total_income, dtype: float64\n",
      "   children  days_employed  dob_years  education_id  family_status_id gender  \\\n",
      "0         1          -8437         42             0                 0      F   \n",
      "1         1          -4024         36             1                 0      F   \n",
      "2         0          -5623         33             1                 0      M   \n",
      "3         3          -4124         32             1                 0      M   \n",
      "4         0         340266         53             1                 1      F   \n",
      "5         0           -926         27             0                 1      M   \n",
      "6         0          -2879         43             0                 0      F   \n",
      "7         0           -152         50             1                 0      M   \n",
      "8         2          -6929         35             0                 1      F   \n",
      "9         0          -2188         41             1                 0      M   \n",
      "\n",
      "  income_type  debt   total_income                     purpose  \\\n",
      "0   сотрудник     0  253875.639453               покупка жилья   \n",
      "1   сотрудник     0  112080.014102     приобретение автомобиля   \n",
      "2   сотрудник     0  145885.952297               покупка жилья   \n",
      "3   сотрудник     0  267628.550329  дополнительное образование   \n",
      "4   пенсионер     0  158616.077870             сыграть свадьбу   \n",
      "5   компаньон     0  255763.565419               покупка жилья   \n",
      "6   компаньон     0  240525.971920           операции с жильем   \n",
      "7   сотрудник     0  135823.934197                 образование   \n",
      "8   сотрудник     0   95856.832424       на проведение свадьбы   \n",
      "9   сотрудник     0  144425.938277     покупка жилья для семьи   \n",
      "\n",
      "                          purpose_lemmatized             child_cat  \\\n",
      "0                    [покупка,  , жилье, \\n]       от 1 до 2 детей   \n",
      "1          [приобретение,  , автомобиль, \\n]       от 1 до 2 детей   \n",
      "2                    [покупка,  , жилье, \\n]             детей нет   \n",
      "3       [дополнительный,  , образование, \\n]  многодетный родитель   \n",
      "4                  [сыграть,  , свадьба, \\n]             детей нет   \n",
      "5                    [покупка,  , жилье, \\n]             детей нет   \n",
      "6             [операция,  , с,  , жилье, \\n]             детей нет   \n",
      "7                          [образование, \\n]             детей нет   \n",
      "8        [на,  , проведение,  , свадьба, \\n]       от 1 до 2 детей   \n",
      "9  [покупка,  , жилье,  , для,  , семья, \\n]             детей нет   \n",
      "\n",
      "              income_cat                 lemms_cat  \n",
      "0      214.618,0 и более  Операции с недвижимостью  \n",
      "1  98.538,27 - 132.135,1              Покупка авто  \n",
      "2  132.135,1 - 161.335,7  Операции с недвижимостью  \n",
      "3      214.618,0 и более               Образование  \n",
      "4  132.135,1 - 161.335,7         Кредит на свадьбу  \n",
      "5      214.618,0 и более  Операции с недвижимостью  \n",
      "6      214.618,0 и более  Операции с недвижимостью  \n",
      "7  132.135,1 - 161.335,7               Образование  \n",
      "8          0 - 98.538,27         Кредит на свадьбу  \n",
      "9  132.135,1 - 161.335,7  Операции с недвижимостью  \n"
     ]
    }
   ],
   "source": [
    "#при помощи лемматизации определили основные причины, почему берётся кредит\n",
    "#поставил категории сверху, так как они есть глобальные переменные\n",
    "auto = ['автомобиль']\n",
    "education = ['образование']\n",
    "housing = ['недвижимость', 'жилье', 'строительство']\n",
    "wedding = ['свадьба'] \n",
    "\n",
    "\n",
    "#собрали вместе функции, при помощи которых осуществляется категоризация;\n",
    "#функции имеют одинаковое ключевое слово в наименовании для простоты в поиске и идентификации\n",
    "def categoryzation_kiddos(kids): \n",
    "    if kids == 0:\n",
    "        return 'детей нет'\n",
    "    if kids > 0 and kids <= 2:\n",
    "        return 'от 1 до 2 детей'\n",
    "    if kids > 2:\n",
    "        return 'многодетный родитель'\n",
    "\n",
    "print(compact_df['total_income'].describe(percentiles = [.1,.9])) \n",
    "#посмотрел, что к чему по распрелению 'total_income'\n",
    "#взял значения и использовал\n",
    "    \n",
    "def categoryzation_income(money):\n",
    "    if money <= 98538.27:\n",
    "        return '0 - 98.538,27'\n",
    "    if money > 98538.27 and money <= 132135.1:\n",
    "        return '98.538,27 - 132.135,1'\n",
    "    if money > 132135.1 and money <= 161335.7:\n",
    "        return '132.135,1 - 161.335,7'\n",
    "    if money > 161335.7 and money <= 214618.0:\n",
    "        return '161.335,7 - 214.618,0'\n",
    "    if money > 214618.0:\n",
    "        return '214.618,0 и более'\n",
    "    \n",
    "def categoryzation_lemms(lemms):\n",
    "    for x in lemms:\n",
    "        if x in auto:\n",
    "            return 'Покупка авто'\n",
    "        if x in education:\n",
    "            return 'Образование'\n",
    "        if x in housing:\n",
    "            return 'Операции с недвижимостью'\n",
    "        if x in wedding:\n",
    "            return 'Кредит на свадьбу'\n",
    "    return 'другое'\n",
    "\n",
    "compact_df['child_cat'] = compact_df['children'].apply(categoryzation_kiddos)\n",
    "compact_df['income_cat'] = compact_df['total_income'].apply(categoryzation_income)\n",
    "compact_df['lemms_cat'] = compact_df['purpose_lemmatized'].apply(categoryzation_lemms)\n",
    "\n",
    "\n",
    "print(compact_df.head(10))\n"
   ]
  },
  {
   "cell_type": "markdown",
   "metadata": {},
   "source": [
    "### Вывод"
   ]
  },
  {
   "cell_type": "markdown",
   "metadata": {},
   "source": [
    "Сгруппируем наших клиентов на группы по многодетности: детей нет, от 1 до 2 детей, многодетный родитель.\n",
    "\n",
    "Добавим категорию, которая укажет на уровень доходов лиц, занимающих средства. Укажем шаг в 50 тыс. руб.\n",
    "\n",
    "При помощи лемматизации выясним причины, по которым берутся кредиты. Благодаря успешному подбору категорий не появилось категории \"другое\", показывающей, что мы охватили не все причины. "
   ]
  },
  {
   "cell_type": "markdown",
   "metadata": {},
   "source": [
    "### Шаг 3. Ответьте на вопросы"
   ]
  },
  {
   "cell_type": "markdown",
   "metadata": {},
   "source": [
    "- Есть ли зависимость между наличием детей и возвратом кредита в срок?"
   ]
  },
  {
   "cell_type": "code",
   "execution_count": 7,
   "metadata": {},
   "outputs": [
    {
     "data": {
      "text/html": [
       "<div>\n",
       "<style scoped>\n",
       "    .dataframe tbody tr th:only-of-type {\n",
       "        vertical-align: middle;\n",
       "    }\n",
       "\n",
       "    .dataframe tbody tr th {\n",
       "        vertical-align: top;\n",
       "    }\n",
       "\n",
       "    .dataframe thead tr th {\n",
       "        text-align: left;\n",
       "    }\n",
       "\n",
       "    .dataframe thead tr:last-of-type th {\n",
       "        text-align: right;\n",
       "    }\n",
       "</style>\n",
       "<table border=\"1\" class=\"dataframe\">\n",
       "  <thead>\n",
       "    <tr>\n",
       "      <th></th>\n",
       "      <th>count</th>\n",
       "      <th>sum</th>\n",
       "      <th>mean</th>\n",
       "    </tr>\n",
       "    <tr>\n",
       "      <th></th>\n",
       "      <th>debt</th>\n",
       "      <th>debt</th>\n",
       "      <th>debt</th>\n",
       "    </tr>\n",
       "    <tr>\n",
       "      <th>child_cat</th>\n",
       "      <th></th>\n",
       "      <th></th>\n",
       "      <th></th>\n",
       "    </tr>\n",
       "  </thead>\n",
       "  <tbody>\n",
       "    <tr>\n",
       "      <td>детей нет</td>\n",
       "      <td>14091</td>\n",
       "      <td>1063</td>\n",
       "      <td>0.075438</td>\n",
       "    </tr>\n",
       "    <tr>\n",
       "      <td>многодетный родитель</td>\n",
       "      <td>456</td>\n",
       "      <td>39</td>\n",
       "      <td>0.085526</td>\n",
       "    </tr>\n",
       "    <tr>\n",
       "      <td>от 1 до 2 детей</td>\n",
       "      <td>6860</td>\n",
       "      <td>638</td>\n",
       "      <td>0.093003</td>\n",
       "    </tr>\n",
       "  </tbody>\n",
       "</table>\n",
       "</div>"
      ],
      "text/plain": [
       "                      count   sum      mean\n",
       "                       debt  debt      debt\n",
       "child_cat                                  \n",
       "детей нет             14091  1063  0.075438\n",
       "многодетный родитель    456    39  0.085526\n",
       "от 1 до 2 детей        6860   638  0.093003"
      ]
     },
     "metadata": {},
     "output_type": "display_data"
    }
   ],
   "source": [
    "pivot_data_child = compact_df.pivot_table(index='child_cat', values='debt', aggfunc=['count','sum', 'mean'])\n",
    "\n",
    "display(pivot_data_child)"
   ]
  },
  {
   "cell_type": "markdown",
   "metadata": {},
   "source": [
    "### Вывод"
   ]
  },
  {
   "cell_type": "markdown",
   "metadata": {},
   "source": [
    "На основании данных, полученных в результате анализа, получаем следующее:\n",
    "\n",
    "Действительно, платежеспособность наиболее высока у категории лиц \"бездетные\", при этом наибольший процент невозврата кредита в срок наблюдается у категории лиц с от 1 до 2 детей. Это может быть вызвано наличием государственной поддержки для многодетных семей с рядом льгот в виде дополнительного питания, субсидирования жилья и так далее.\n",
    "\n",
    "Вывод - зависимость есть."
   ]
  },
  {
   "cell_type": "markdown",
   "metadata": {},
   "source": [
    "- Есть ли зависимость между семейным положением и возвратом кредита в срок?\n"
   ]
  },
  {
   "cell_type": "code",
   "execution_count": 8,
   "metadata": {},
   "outputs": [
    {
     "data": {
      "text/html": [
       "<div>\n",
       "<style scoped>\n",
       "    .dataframe tbody tr th:only-of-type {\n",
       "        vertical-align: middle;\n",
       "    }\n",
       "\n",
       "    .dataframe tbody tr th {\n",
       "        vertical-align: top;\n",
       "    }\n",
       "\n",
       "    .dataframe thead th {\n",
       "        text-align: right;\n",
       "    }\n",
       "</style>\n",
       "<table border=\"1\" class=\"dataframe\">\n",
       "  <thead>\n",
       "    <tr style=\"text-align: right;\">\n",
       "      <th></th>\n",
       "      <th>family_status</th>\n",
       "      <th>family_status_id</th>\n",
       "      <th>count</th>\n",
       "      <th>sum</th>\n",
       "      <th>mean</th>\n",
       "    </tr>\n",
       "  </thead>\n",
       "  <tbody>\n",
       "    <tr>\n",
       "      <td>0</td>\n",
       "      <td>женат / замужем</td>\n",
       "      <td>0</td>\n",
       "      <td>12339</td>\n",
       "      <td>931</td>\n",
       "      <td>0.075452</td>\n",
       "    </tr>\n",
       "    <tr>\n",
       "      <td>1</td>\n",
       "      <td>гражданский брак</td>\n",
       "      <td>1</td>\n",
       "      <td>4151</td>\n",
       "      <td>388</td>\n",
       "      <td>0.093471</td>\n",
       "    </tr>\n",
       "    <tr>\n",
       "      <td>2</td>\n",
       "      <td>вдовец / вдова</td>\n",
       "      <td>2</td>\n",
       "      <td>959</td>\n",
       "      <td>63</td>\n",
       "      <td>0.065693</td>\n",
       "    </tr>\n",
       "    <tr>\n",
       "      <td>3</td>\n",
       "      <td>в разводе</td>\n",
       "      <td>3</td>\n",
       "      <td>1195</td>\n",
       "      <td>85</td>\n",
       "      <td>0.071130</td>\n",
       "    </tr>\n",
       "    <tr>\n",
       "      <td>4</td>\n",
       "      <td>не женат / не замужем</td>\n",
       "      <td>4</td>\n",
       "      <td>2810</td>\n",
       "      <td>274</td>\n",
       "      <td>0.097509</td>\n",
       "    </tr>\n",
       "  </tbody>\n",
       "</table>\n",
       "</div>"
      ],
      "text/plain": [
       "           family_status  family_status_id  count  sum      mean\n",
       "0        женат / замужем                 0  12339  931  0.075452\n",
       "1       гражданский брак                 1   4151  388  0.093471\n",
       "2         вдовец / вдова                 2    959   63  0.065693\n",
       "3              в разводе                 3   1195   85  0.071130\n",
       "4  не женат / не замужем                 4   2810  274  0.097509"
      ]
     },
     "metadata": {},
     "output_type": "display_data"
    }
   ],
   "source": [
    "pivot_data_fam = compact_df.pivot_table(index='family_status_id', values='debt', aggfunc=['count','sum', 'mean'])\n",
    "\n",
    "\n",
    "pivot_data_fam.columns = ['count', 'sum', 'mean'] \n",
    "\n",
    "pivot_data_fam = family_dict.merge(pivot_data_fam, on='family_status_id', how='right')\n",
    "\n",
    "display(pivot_data_fam)\n"
   ]
  },
  {
   "cell_type": "markdown",
   "metadata": {},
   "source": [
    "### Вывод"
   ]
  },
  {
   "cell_type": "markdown",
   "metadata": {},
   "source": [
    "Наиболее кредитоспособными показывают себя лица, являющиеся вдовцами или вдовами. При этом, категория незамужних и неженатых показывает худший результат по уровню возврата кредита в срок.\n",
    "\n",
    "Это можно связать с тем, что неженатые/незамужние граждане не участвовали в совместной жизни и не устраивали совместный бюджет - у них могут быть сложности с планированием, так как они одиноки и не обременены связями с семьей.\n",
    "\n",
    "Вывод - зависимость есть."
   ]
  },
  {
   "cell_type": "markdown",
   "metadata": {},
   "source": [
    "- Есть ли зависимость между уровнем дохода и возвратом кредита в срок?"
   ]
  },
  {
   "cell_type": "code",
   "execution_count": 9,
   "metadata": {},
   "outputs": [
    {
     "data": {
      "text/html": [
       "<div>\n",
       "<style scoped>\n",
       "    .dataframe tbody tr th:only-of-type {\n",
       "        vertical-align: middle;\n",
       "    }\n",
       "\n",
       "    .dataframe tbody tr th {\n",
       "        vertical-align: top;\n",
       "    }\n",
       "\n",
       "    .dataframe thead tr th {\n",
       "        text-align: left;\n",
       "    }\n",
       "\n",
       "    .dataframe thead tr:last-of-type th {\n",
       "        text-align: right;\n",
       "    }\n",
       "</style>\n",
       "<table border=\"1\" class=\"dataframe\">\n",
       "  <thead>\n",
       "    <tr>\n",
       "      <th></th>\n",
       "      <th>count</th>\n",
       "      <th>sum</th>\n",
       "      <th>mean</th>\n",
       "    </tr>\n",
       "    <tr>\n",
       "      <th></th>\n",
       "      <th>debt</th>\n",
       "      <th>debt</th>\n",
       "      <th>debt</th>\n",
       "    </tr>\n",
       "    <tr>\n",
       "      <th>income_cat</th>\n",
       "      <th></th>\n",
       "      <th></th>\n",
       "      <th></th>\n",
       "    </tr>\n",
       "  </thead>\n",
       "  <tbody>\n",
       "    <tr>\n",
       "      <td>0 - 98.538,27</td>\n",
       "      <td>4291</td>\n",
       "      <td>344</td>\n",
       "      <td>0.080168</td>\n",
       "    </tr>\n",
       "    <tr>\n",
       "      <td>132.135,1 - 161.335,7</td>\n",
       "      <td>4290</td>\n",
       "      <td>375</td>\n",
       "      <td>0.087413</td>\n",
       "    </tr>\n",
       "    <tr>\n",
       "      <td>161.335,7 - 214.618,0</td>\n",
       "      <td>4291</td>\n",
       "      <td>361</td>\n",
       "      <td>0.084130</td>\n",
       "    </tr>\n",
       "    <tr>\n",
       "      <td>214.618,0 и более</td>\n",
       "      <td>4291</td>\n",
       "      <td>300</td>\n",
       "      <td>0.069914</td>\n",
       "    </tr>\n",
       "    <tr>\n",
       "      <td>98.538,27 - 132.135,1</td>\n",
       "      <td>4291</td>\n",
       "      <td>361</td>\n",
       "      <td>0.084130</td>\n",
       "    </tr>\n",
       "  </tbody>\n",
       "</table>\n",
       "</div>"
      ],
      "text/plain": [
       "                      count  sum      mean\n",
       "                       debt debt      debt\n",
       "income_cat                                \n",
       "0 - 98.538,27          4291  344  0.080168\n",
       "132.135,1 - 161.335,7  4290  375  0.087413\n",
       "161.335,7 - 214.618,0  4291  361  0.084130\n",
       "214.618,0 и более      4291  300  0.069914\n",
       "98.538,27 - 132.135,1  4291  361  0.084130"
      ]
     },
     "metadata": {},
     "output_type": "display_data"
    }
   ],
   "source": [
    "pivot_data_inc = compact_df.pivot_table(index='income_cat', values='debt', aggfunc=['count','sum', 'mean'])\n",
    "\n",
    "\n",
    "display(pivot_data_inc)\n"
   ]
  },
  {
   "cell_type": "markdown",
   "metadata": {},
   "source": [
    "### Вывод"
   ]
  },
  {
   "cell_type": "markdown",
   "metadata": {},
   "source": [
    "Четкой зависимости по проценту возвратов кредита в срок не прослеживается. Процент возврата не в срок для групп от 0 тыс. руб. до 215 тыс. руб. колеблется в пределах 1 процентного пункта.\n",
    "\n",
    "При этом, у лиц, чей месячных доход превышает 214 тыс. руб., процент дохода уменьшается на более чем 1 процентный пункт. Можно сделать вывод, что наиболее богатая часть граждан лучше всего выплачивает кредиты. Остальные же - примерно одинаково."
   ]
  },
  {
   "cell_type": "markdown",
   "metadata": {},
   "source": [
    "- Как разные цели кредита влияют на его возврат в срок?"
   ]
  },
  {
   "cell_type": "code",
   "execution_count": 10,
   "metadata": {},
   "outputs": [
    {
     "data": {
      "text/html": [
       "<div>\n",
       "<style scoped>\n",
       "    .dataframe tbody tr th:only-of-type {\n",
       "        vertical-align: middle;\n",
       "    }\n",
       "\n",
       "    .dataframe tbody tr th {\n",
       "        vertical-align: top;\n",
       "    }\n",
       "\n",
       "    .dataframe thead tr th {\n",
       "        text-align: left;\n",
       "    }\n",
       "\n",
       "    .dataframe thead tr:last-of-type th {\n",
       "        text-align: right;\n",
       "    }\n",
       "</style>\n",
       "<table border=\"1\" class=\"dataframe\">\n",
       "  <thead>\n",
       "    <tr>\n",
       "      <th></th>\n",
       "      <th>count</th>\n",
       "      <th>sum</th>\n",
       "      <th>mean</th>\n",
       "    </tr>\n",
       "    <tr>\n",
       "      <th></th>\n",
       "      <th>debt</th>\n",
       "      <th>debt</th>\n",
       "      <th>debt</th>\n",
       "    </tr>\n",
       "    <tr>\n",
       "      <th>lemms_cat</th>\n",
       "      <th></th>\n",
       "      <th></th>\n",
       "      <th></th>\n",
       "    </tr>\n",
       "  </thead>\n",
       "  <tbody>\n",
       "    <tr>\n",
       "      <td>Кредит на свадьбу</td>\n",
       "      <td>2324</td>\n",
       "      <td>186</td>\n",
       "      <td>0.080034</td>\n",
       "    </tr>\n",
       "    <tr>\n",
       "      <td>Образование</td>\n",
       "      <td>4013</td>\n",
       "      <td>370</td>\n",
       "      <td>0.092200</td>\n",
       "    </tr>\n",
       "    <tr>\n",
       "      <td>Операции с недвижимостью</td>\n",
       "      <td>10811</td>\n",
       "      <td>782</td>\n",
       "      <td>0.072334</td>\n",
       "    </tr>\n",
       "    <tr>\n",
       "      <td>Покупка авто</td>\n",
       "      <td>4306</td>\n",
       "      <td>403</td>\n",
       "      <td>0.093590</td>\n",
       "    </tr>\n",
       "  </tbody>\n",
       "</table>\n",
       "</div>"
      ],
      "text/plain": [
       "                          count  sum      mean\n",
       "                           debt debt      debt\n",
       "lemms_cat                                     \n",
       "Кредит на свадьбу          2324  186  0.080034\n",
       "Образование                4013  370  0.092200\n",
       "Операции с недвижимостью  10811  782  0.072334\n",
       "Покупка авто               4306  403  0.093590"
      ]
     },
     "metadata": {},
     "output_type": "display_data"
    }
   ],
   "source": [
    "pivot_data_lemms = compact_df.pivot_table(index='lemms_cat', values='debt', aggfunc=['count','sum', 'mean'])\n",
    "\n",
    "display(pivot_data_lemms)"
   ]
  },
  {
   "cell_type": "markdown",
   "metadata": {},
   "source": [
    "### Вывод"
   ]
  },
  {
   "cell_type": "markdown",
   "metadata": {},
   "source": [
    "На основании анализа видим, что покупка авто и образование имеют наибольший процент невыплат кредита в срок.\n",
    "\n",
    "Кредит на свадьбу и операции с недвижимостью имеют меньший процент невыплат в срок. Это может быть связано с тем, что данные кредиты чаще всего берутся и закрываются скорее семьёй, нежели одним человеком.  "
   ]
  },
  {
   "cell_type": "markdown",
   "metadata": {},
   "source": [
    "### Шаг 4. Общий вывод"
   ]
  },
  {
   "cell_type": "markdown",
   "metadata": {},
   "source": [
    "#### Результаты исследования\n",
    "\n",
    "\n",
    "По результатам исследования стало понятно, что семейное полоение и количество детей клиента оказывает влияние на факт погашения кредита в срок. \n",
    "\n",
    "Так, наименьший процент погашения кредита не в срок имеет категория лиц \"без детей\" - **7,54%**. У категории лиц, имеющих от 1 до 2 детей, имеет **9,3%**.\n",
    "\n",
    "По семейному положению наблюдается следующая зависимость. Категории лиц без, находящихся в отношениях, перешедших хотя бы в категорию \"гражданских брак\", имеет наибольший процент невозврата в срок - \t**9,75%**. Во всех остальных категориях наблюдается уменьшение процента невозврата: наиболее репрезентативной выглядит процент невозвратов кредита женатых / замужних кредиторов **7,54%**.\n",
    "\n",
    "\n",
    "\n",
    "#### Идеальный кредитор\n",
    "\n",
    "Группировка по различным параметрам показала, что наименьший процент невыплат будет наблюдаться у лиц, состоящих в отношениях (в гражданском браке или женатые/замужние) без детей, зарабатывающих в месяц не менее 200 тыс. руб., берущих кредит на операции с недвижимостью. \n",
    "\n",
    "\n",
    "#### Проблемы с выгрузкой\n",
    "\n",
    "При этом, при работе с данной выгрузкой возникло несколько вопросов:\n",
    "1) Почему такие странные значения в части количества рабочих дней? \n",
    "2) Почему в некоторых случаях возраст указан меньше 18 лет?\n",
    "\n",
    "Данные вопросы лучше всего направить авторам выгрузки, чтобы они могли улучшить систему для более качественной и быстрой работы с данными, а также возможностей автоматизации."
   ]
  }
 ],
 "metadata": {
  "kernelspec": {
   "display_name": "Python 3",
   "language": "python",
   "name": "python3"
  },
  "language_info": {
   "codemirror_mode": {
    "name": "ipython",
    "version": 3
   },
   "file_extension": ".py",
   "mimetype": "text/x-python",
   "name": "python",
   "nbconvert_exporter": "python",
   "pygments_lexer": "ipython3",
   "version": "3.8.8"
  },
  "toc": {
   "base_numbering": 1,
   "nav_menu": {},
   "number_sections": true,
   "sideBar": true,
   "skip_h1_title": true,
   "title_cell": "Table of Contents",
   "title_sidebar": "Contents",
   "toc_cell": false,
   "toc_position": {},
   "toc_section_display": true,
   "toc_window_display": false
  }
 },
 "nbformat": 4,
 "nbformat_minor": 2
}
